{
 "cells": [
  {
   "metadata": {},
   "cell_type": "markdown",
   "source": [
    "# This is a sample Jupyter Notebook\n",
    "\n",
    "Below is an example of a code cell. \n",
    "Put your cursor into the cell and press Shift+Enter to execute it and select the next one, or click !here goes the icon of the corresponding button in the gutter! button.\n",
    "To debug a cell, press Alt+Shift+Enter, or click !here goes the icon of the corresponding button in the gutter! button.\n",
    "\n",
    "Press Double Shift to search everywhere for classes, files, tool windows, actions, and settings.\n",
    "\n",
    "To learn more about Jupyter Notebooks in PyCharm, see [help](https://www.jetbrains.com/help/pycharm/jupyter-notebook-support.html).\n",
    "For an overview of PyCharm, go to Help -> Learn IDE features or refer to [our documentation](https://www.jetbrains.com/help/pycharm/getting-started.html).\n",
    "\n",
    "**Point to note**\n",
    "- The original dataset has no missing values\n",
    "\n",
    "The two notes are:\n",
    "G# (G sharp)\n",
    "Ab (A flat)"
   ],
   "id": "8a77807f92f26ee"
  },
  {
   "metadata": {
    "ExecuteTime": {
     "end_time": "2024-06-02T18:27:12.689871Z",
     "start_time": "2024-06-02T18:27:12.624391Z"
    }
   },
   "cell_type": "code",
   "source": [
    "import pandas as pd\n",
    "import numpy as np\n",
    "import seaborn as sns\n",
    "from sklearn.preprocessing import OneHotEncoder\n",
    "import matplotlib.pyplot as plt\n",
    "\n",
    "data = pd.read_csv('data/spotify_top_songs_audio_features.csv')\n",
    "data.drop(columns=['track_name',\"artist_names\",\"id\",\"source\"],axis=0,inplace=True)\n",
    "# sns.barplot(data.groupby([\"source\",\"id\"]).sum())\n",
    "# data.isna().sum()\n",
    "# data.info()\n",
    "#  !feature encoding\n",
    "\n",
    "categorical_features = [\"key\",\"mode\",\"time_signature\"]\n",
    "encoder = OneHotEncoder(sparse_output=False)\n",
    "encoded_data = encoder.fit_transform(data[categorical_features])\n",
    "\n",
    "encoded_feature_names = encoder.get_feature_names_out(categorical_features)\n",
    "encoded_data_frame = pd.DataFrame(encoded_data, columns=encoded_feature_names)\n",
    "\n",
    "# combine features back together\n",
    "new_data = pd.concat([data.drop(columns=categorical_features), encoded_data_frame], axis=1)\n",
    "for item in new_data.columns:\n",
    "    if \"#\" in item:\n",
    "        new_data.rename(columns={item:item.split(\"#/\")[0]+\"_sharp\"}, inplace=True)\n",
    "new_data.columns\n",
    "# fig, axs = plt.subplots(nrows=1,ncols=2,figsize=(20,10))\n",
    "# axs[0].set_title(\"Correlation matrix before variable selection\")\n",
    "# axs[1].set_title(\"Correlation matrix after variable selection\")\n",
    "# sns.heatmap(data.iloc[:,:].corr(), ax = axs[0],annot=True)\n",
    "# sns.heatmap(data.corr(),ax=axs[1],annot=True)\n",
    "# encoded_data_frame = pd.DataFrame(encoded_data, columns=encoder.get_feature_names_out(categorical_features))"
   ],
   "id": "fbc121e30a2defb3",
   "outputs": [
    {
     "data": {
      "text/plain": [
       "Index(['danceability', 'energy', 'speechiness', 'acousticness',\n",
       "       'instrumentalness', 'liveness', 'valence', 'loudness', 'tempo',\n",
       "       'duration_ms', 'weeks_on_chart', 'streams', 'key_A', 'key_A_sharp',\n",
       "       'key_B', 'key_C', 'key_C_sharp', 'key_D', 'key_D_sharp', 'key_E',\n",
       "       'key_F', 'key_F_sharp', 'key_G', 'key_G_sharp', 'mode_Major',\n",
       "       'mode_Minor', 'time_signature_1', 'time_signature_3 beats',\n",
       "       'time_signature_4 beats', 'time_signature_5 beats'],\n",
       "      dtype='object')"
      ]
     },
     "execution_count": 67,
     "metadata": {},
     "output_type": "execute_result"
    }
   ],
   "execution_count": 67
  },
  {
   "metadata": {},
   "cell_type": "code",
   "outputs": [],
   "execution_count": null,
   "source": "",
   "id": "8c6cbb47dabe194c"
  }
 ],
 "metadata": {
  "kernelspec": {
   "display_name": "Python 3",
   "language": "python",
   "name": "python3"
  },
  "language_info": {
   "codemirror_mode": {
    "name": "ipython",
    "version": 2
   },
   "file_extension": ".py",
   "mimetype": "text/x-python",
   "name": "python",
   "nbconvert_exporter": "python",
   "pygments_lexer": "ipython2",
   "version": "2.7.6"
  }
 },
 "nbformat": 4,
 "nbformat_minor": 5
}
